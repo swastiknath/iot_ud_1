{
 "cells": [
  {
   "cell_type": "code",
   "execution_count": 1,
   "metadata": {
    "editable": true
   },
   "outputs": [
    {
     "name": "stdout",
     "output_type": "stream",
     "text": [
      "--2020-04-28 11:50:51--  http://download.tensorflow.org/models/object_detection/ssd_inception_v2_coco_2018_01_28.tar.gz\n",
      "Resolving download.tensorflow.org (download.tensorflow.org)... 173.194.196.128, 2607:f8b0:4001:c07::80\n",
      "Connecting to download.tensorflow.org (download.tensorflow.org)|173.194.196.128|:80... connected.\n",
      "HTTP request sent, awaiting response... 200 OK\n",
      "Length: 278114232 (265M) [application/x-tar]\n",
      "Saving to: ‘ssd_inception_v2_coco_2018_01_28.tar.gz’\n",
      "\n",
      "ssd_inception_v2_co   5%[>                   ]  14.24M  59.6MB/s    in 0.2s    \n",
      "\n",
      "2020-04-28 11:50:52 (59.6 MB/s) - Read error at byte 14931072/278114232 (Connection reset by peer). Retrying.\n",
      "\n",
      "--2020-04-28 11:50:53--  (try: 2)  http://download.tensorflow.org/models/object_detection/ssd_inception_v2_coco_2018_01_28.tar.gz\n",
      "Connecting to download.tensorflow.org (download.tensorflow.org)|173.194.196.128|:80... connected.\n",
      "HTTP request sent, awaiting response... 206 Partial Content\n",
      "Length: 278114232 (265M), 263183160 (251M) remaining [application/x-tar]\n",
      "Saving to: ‘ssd_inception_v2_coco_2018_01_28.tar.gz’\n",
      "\n",
      "ssd_inception_v2_co 100%[+==================>] 265.23M   101MB/s    in 2.5s    \n",
      "\n",
      "2020-04-28 11:50:55 (101 MB/s) - ‘ssd_inception_v2_coco_2018_01_28.tar.gz’ saved [278114232/278114232]\n",
      "\n"
     ]
    }
   ],
   "source": [
    "!wget http://download.tensorflow.org/models/object_detection/ssd_inception_v2_coco_2018_01_28.tar.gz"
   ]
  },
  {
   "cell_type": "code",
   "execution_count": 5,
   "metadata": {
    "editable": true
   },
   "outputs": [
    {
     "name": "stdout",
     "output_type": "stream",
     "text": [
      "ssd_inception_v2_coco_2018_01_28/\n",
      "ssd_inception_v2_coco_2018_01_28/model.ckpt.index\n",
      "ssd_inception_v2_coco_2018_01_28/checkpoint\n",
      "ssd_inception_v2_coco_2018_01_28/pipeline.config\n",
      "ssd_inception_v2_coco_2018_01_28/model.ckpt.data-00000-of-00001\n",
      "ssd_inception_v2_coco_2018_01_28/model.ckpt.meta\n",
      "ssd_inception_v2_coco_2018_01_28/saved_model/\n",
      "ssd_inception_v2_coco_2018_01_28/saved_model/saved_model.pb\n",
      "ssd_inception_v2_coco_2018_01_28/saved_model/variables/\n",
      "ssd_inception_v2_coco_2018_01_28/frozen_inference_graph.pb\n"
     ]
    }
   ],
   "source": [
    "!tar -xvf ssd_inception_v2_coco_2018_01_28.tar.gz"
   ]
  },
  {
   "cell_type": "code",
   "execution_count": 4,
   "metadata": {
    "editable": true
   },
   "outputs": [
    {
     "name": "stdout",
     "output_type": "stream",
     "text": [
      "Model Optimizer arguments:\n",
      "Common parameters:\n",
      "\t- Path to the Input Model: \t/home/workspace/ssd_inception_v2_coco_2018_01_28/frozen_inference_graph.pb\n",
      "\t- Path for generated IR: \t/home/workspace/.\n",
      "\t- IR output name: \tfrozen_inference_graph\n",
      "\t- Log level: \tERROR\n",
      "\t- Batch: \tNot specified, inherited from the model\n",
      "\t- Input layers: \tNot specified, inherited from the model\n",
      "\t- Output layers: \tNot specified, inherited from the model\n",
      "\t- Input shapes: \tNot specified, inherited from the model\n",
      "\t- Mean values: \tNot specified\n",
      "\t- Scale values: \tNot specified\n",
      "\t- Scale factor: \tNot specified\n",
      "\t- Precision of IR: \tFP32\n",
      "\t- Enable fusing: \tTrue\n",
      "\t- Enable grouped convolutions fusing: \tTrue\n",
      "\t- Move mean values to preprocess section: \tFalse\n",
      "\t- Reverse input channels: \tTrue\n",
      "TensorFlow specific parameters:\n",
      "\t- Input model in text protobuf format: \tFalse\n",
      "\t- Path to model dump for TensorBoard: \tNone\n",
      "\t- List of shared libraries with TensorFlow custom layers implementation: \tNone\n",
      "\t- Update the configuration file with input/output node names: \tNone\n",
      "\t- Use configuration file used to generate the model with Object Detection API: \t/home/workspace/ssd_inception_v2_coco_2018_01_28/pipeline.config\n",
      "\t- Operations to offload: \tNone\n",
      "\t- Patterns to offload: \tNone\n",
      "\t- Use the config file: \t/opt/intel/openvino/deployment_tools/model_optimizer/extensions/front/tf/ssd_v2_support.json\n",
      "Model Optimizer version: \t2019.3.0-408-gac8584cb7\n",
      "The Preprocessor block has been removed. Only nodes performing mean value subtraction and scaling (if applicable) are kept.\n",
      "\n",
      "[ SUCCESS ] Generated IR model.\n",
      "[ SUCCESS ] XML file: /home/workspace/./frozen_inference_graph.xml\n",
      "[ SUCCESS ] BIN file: /home/workspace/./frozen_inference_graph.bin\n",
      "[ SUCCESS ] Total execution time: 47.38 seconds. \n"
     ]
    }
   ],
   "source": [
    "!/opt/intel/openvino/deployment_tools/model_optimizer/mo_tf.py --input_model ssd_inception_v2_coco_2018_01_28/frozen_inference_graph.pb --tensorflow_use_custom_operations_config /opt/intel/openvino/deployment_tools/model_optimizer/extensions/front/tf/ssd_v2_support.json --tensorflow_object_detection_api_pipeline_config ssd_inception_v2_coco_2018_01_28/pipeline.config --reverse_input_channel"
   ]
  },
  {
   "cell_type": "code",
   "execution_count": 8,
   "metadata": {
    "editable": true
   },
   "outputs": [
    {
     "name": "stdout",
     "output_type": "stream",
     "text": [
      "--2020-04-30 22:47:03--  http://download.tensorflow.org/models/object_detection/ssd_mobilenet_v2_coco_2018_03_29.tar.gz\n",
      "Resolving download.tensorflow.org (download.tensorflow.org)... 74.125.124.128, 2607:f8b0:4001:c18::80\n",
      "Connecting to download.tensorflow.org (download.tensorflow.org)|74.125.124.128|:80... connected.\n",
      "HTTP request sent, awaiting response... 200 OK\n",
      "Length: 187925923 (179M) [application/x-tar]\n",
      "Saving to: ‘ssd_mobilenet_v2_coco_2018_03_29.tar.gz’\n",
      "\n",
      "ssd_mobilenet_v2_co 100%[===================>] 179.22M   106MB/s    in 1.7s    \n",
      "\n",
      "2020-04-30 22:47:05 (106 MB/s) - ‘ssd_mobilenet_v2_coco_2018_03_29.tar.gz’ saved [187925923/187925923]\n",
      "\n"
     ]
    }
   ],
   "source": [
    "!wget http://download.tensorflow.org/models/object_detection/ssd_mobilenet_v2_coco_2018_03_29.tar.gz"
   ]
  },
  {
   "cell_type": "code",
   "execution_count": 9,
   "metadata": {
    "editable": true
   },
   "outputs": [
    {
     "name": "stdout",
     "output_type": "stream",
     "text": [
      "ssd_mobilenet_v2_coco_2018_03_29/checkpoint\n",
      "ssd_mobilenet_v2_coco_2018_03_29/model.ckpt.meta\n",
      "ssd_mobilenet_v2_coco_2018_03_29/pipeline.config\n",
      "ssd_mobilenet_v2_coco_2018_03_29/saved_model/saved_model.pb\n",
      "ssd_mobilenet_v2_coco_2018_03_29/frozen_inference_graph.pb\n",
      "ssd_mobilenet_v2_coco_2018_03_29/saved_model/\n",
      "ssd_mobilenet_v2_coco_2018_03_29/saved_model/variables/\n",
      "ssd_mobilenet_v2_coco_2018_03_29/model.ckpt.index\n",
      "ssd_mobilenet_v2_coco_2018_03_29/\n",
      "ssd_mobilenet_v2_coco_2018_03_29/model.ckpt.data-00000-of-00001\n"
     ]
    }
   ],
   "source": [
    "!tar -xvf ssd_mobilenet_v2_coco_2018_03_29.tar.gz"
   ]
  },
  {
   "cell_type": "code",
   "execution_count": 10,
   "metadata": {
    "editable": true
   },
   "outputs": [
    {
     "name": "stdout",
     "output_type": "stream",
     "text": [
      "Model Optimizer arguments:\n",
      "Common parameters:\n",
      "\t- Path to the Input Model: \t/home/workspace/ssd_mobilenet_v2_coco_2018_03_29/frozen_inference_graph.pb\n",
      "\t- Path for generated IR: \t/home/workspace/.\n",
      "\t- IR output name: \tfrozen_inference_graph\n",
      "\t- Log level: \tERROR\n",
      "\t- Batch: \tNot specified, inherited from the model\n",
      "\t- Input layers: \tNot specified, inherited from the model\n",
      "\t- Output layers: \tNot specified, inherited from the model\n",
      "\t- Input shapes: \tNot specified, inherited from the model\n",
      "\t- Mean values: \tNot specified\n",
      "\t- Scale values: \tNot specified\n",
      "\t- Scale factor: \tNot specified\n",
      "\t- Precision of IR: \tFP32\n",
      "\t- Enable fusing: \tTrue\n",
      "\t- Enable grouped convolutions fusing: \tTrue\n",
      "\t- Move mean values to preprocess section: \tFalse\n",
      "\t- Reverse input channels: \tTrue\n",
      "TensorFlow specific parameters:\n",
      "\t- Input model in text protobuf format: \tFalse\n",
      "\t- Path to model dump for TensorBoard: \tNone\n",
      "\t- List of shared libraries with TensorFlow custom layers implementation: \tNone\n",
      "\t- Update the configuration file with input/output node names: \tNone\n",
      "\t- Use configuration file used to generate the model with Object Detection API: \t/home/workspace/ssd_mobilenet_v2_coco_2018_03_29/pipeline.config\n",
      "\t- Operations to offload: \tNone\n",
      "\t- Patterns to offload: \tNone\n",
      "\t- Use the config file: \t/opt/intel/openvino/deployment_tools/model_optimizer/extensions/front/tf/ssd_v2_support.json\n",
      "Model Optimizer version: \t2019.3.0-408-gac8584cb7\n",
      "The Preprocessor block has been removed. Only nodes performing mean value subtraction and scaling (if applicable) are kept.\n",
      "\n",
      "[ SUCCESS ] Generated IR model.\n",
      "[ SUCCESS ] XML file: /home/workspace/./frozen_inference_graph.xml\n",
      "[ SUCCESS ] BIN file: /home/workspace/./frozen_inference_graph.bin\n",
      "[ SUCCESS ] Total execution time: 59.81 seconds. \n"
     ]
    }
   ],
   "source": [
    "!/opt/intel/openvino/deployment_tools/model_optimizer/mo_tf.py --input_model ssd_mobilenet_v2_coco_2018_03_29/frozen_inference_graph.pb  --tensorflow_use_custom_operations_config /opt/intel/openvino/deployment_tools/model_optimizer/extensions/front/tf/ssd_v2_support.json --tensorflow_object_detection_api_pipeline_config ssd_mobilenet_v2_coco_2018_03_29/pipeline.config --reverse_input_channel"
   ]
  },
  {
   "cell_type": "code",
   "execution_count": null,
   "metadata": {
    "editable": true
   },
   "outputs": [],
   "source": [
    "!cat /opt/intel/openvino/deployment_tools/inference_engine/samples/python_samples/object_detection_sample_ssd/object_detection_sample_ssd.py"
   ]
  },
  {
   "cell_type": "code",
   "execution_count": null,
   "metadata": {
    "editable": true
   },
   "outputs": [],
   "source": [
    "\n",
    "!pip install -r /opt/intel/openvino_2019.3.376/deployment_tools/tools/benchmark_tool/requirements.txt\n",
    "!pip install requests pyyaml -t /usr/local/lib/python3.5/dist-packages && clear && source /opt/intel/openvino/bin/setupvars.sh -pyver 3.5\n",
    "!python /opt/intel/openvino_2019.3.376/deployment_tools/tools/benchmark_tool/benchmark_app.py -m frozen_inference_graph.xml -d CPU -i resources/Pedestrian_Detect_2_1_1.mp4 -l /opt/intel/openvino/deployment_tools/inference_engine/lib/intel64/libcpu_extension_sse4.so"
   ]
  },
  {
   "cell_type": "code",
   "execution_count": 2,
   "metadata": {
    "editable": true
   },
   "outputs": [
    {
     "name": "stdout",
     "output_type": "stream",
     "text": [
      "--2020-05-02 13:46:22--  http://download.tensorflow.org/models/object_detection/faster_rcnn_resnet50_coco_2018_01_28.tar.gz\n",
      "Resolving download.tensorflow.org (download.tensorflow.org)... 74.125.124.128, 2607:f8b0:4001:c14::80\n",
      "Connecting to download.tensorflow.org (download.tensorflow.org)|74.125.124.128|:80... connected.\n",
      "HTTP request sent, awaiting response... 200 OK\n",
      "Length: 381355771 (364M) [application/x-tar]\n",
      "Saving to: ‘faster_rcnn_resnet50_coco_2018_01_28.tar.gz’\n",
      "\n",
      "faster_rcnn_resnet5 100%[===================>] 363.69M   214MB/s    in 1.7s    \n",
      "\n",
      "2020-05-02 13:46:24 (214 MB/s) - ‘faster_rcnn_resnet50_coco_2018_01_28.tar.gz’ saved [381355771/381355771]\n",
      "\n"
     ]
    }
   ],
   "source": [
    "!wget http://download.tensorflow.org/models/object_detection/faster_rcnn_resnet50_coco_2018_01_28.tar.gz"
   ]
  },
  {
   "cell_type": "code",
   "execution_count": 3,
   "metadata": {
    "editable": true
   },
   "outputs": [
    {
     "name": "stdout",
     "output_type": "stream",
     "text": [
      "faster_rcnn_resnet50_coco_2018_01_28/\n",
      "faster_rcnn_resnet50_coco_2018_01_28/model.ckpt.index\n",
      "faster_rcnn_resnet50_coco_2018_01_28/checkpoint\n",
      "faster_rcnn_resnet50_coco_2018_01_28/pipeline.config\n",
      "faster_rcnn_resnet50_coco_2018_01_28/model.ckpt.data-00000-of-00001\n",
      "faster_rcnn_resnet50_coco_2018_01_28/model.ckpt.meta\n",
      "faster_rcnn_resnet50_coco_2018_01_28/saved_model/\n",
      "faster_rcnn_resnet50_coco_2018_01_28/saved_model/saved_model.pb\n",
      "faster_rcnn_resnet50_coco_2018_01_28/saved_model/variables/\n",
      "faster_rcnn_resnet50_coco_2018_01_28/frozen_inference_graph.pb\n"
     ]
    }
   ],
   "source": [
    "!tar -xvf faster_rcnn_resnet50_coco_2018_01_28.tar.gz"
   ]
  },
  {
   "cell_type": "code",
   "execution_count": 5,
   "metadata": {
    "editable": true
   },
   "outputs": [
    {
     "name": "stdout",
     "output_type": "stream",
     "text": [
      "total 600\n",
      "-rw-r--r-- 1 root root   965 Dec  5 23:48 all_ext.py\n",
      "-rw-r--r-- 1 root root  1087 Dec  5 23:48 argmax_ext.py\n",
      "-rw-r--r-- 1 root root  2958 Dec  5 23:48 assign_elimination.py\n",
      "-rw-r--r-- 1 root root  7966 Dec  5 23:48 basic_lstm_cell.py\n",
      "-rw-r--r-- 1 root root  1050 Dec  5 23:48 BatchMatMul_ext.py\n",
      "-rw-r--r-- 1 root root  5056 Dec  5 23:48 BatchToSpaceNDToUpsample.py\n",
      "-rw-r--r-- 1 root root  1091 Dec  5 23:48 BlockLSTM_ext.py\n",
      "-rw-r--r-- 1 root root  6727 Dec  5 23:48 BlockLSTM.py\n",
      "-rw-r--r-- 1 root root  1013 Dec  5 23:48 Cast_ext.py\n",
      "-rw-r--r-- 1 root root   939 Dec  5 23:48 concat_ext.py\n",
      "-rw-r--r-- 1 root root  1793 Dec  5 23:48 concat.py\n",
      "-rw-r--r-- 1 root root  4478 Dec  5 23:48 conv_ext.py\n",
      "-rw-r--r-- 1 root root  1390 Dec  5 23:48 crop_and_resize_ext.py\n",
      "-rw-r--r-- 1 root root  3172 Dec  5 23:48 CropAndResizeReplacement.py\n",
      "-rw-r--r-- 1 root root  1038 Dec  5 23:48 CTCGreedyDecoder_ext.py\n",
      "-rw-r--r-- 1 root root  3760 Dec  5 23:48 CTCGreedyDecoder.py\n",
      "-rw-r--r-- 1 root root  3162 Dec  5 23:48 deconv_ext.py\n",
      "-rw-r--r-- 1 root root  1182 Dec  5 23:48 depth_to_space.py\n",
      "-rw-r--r-- 1 root root  6152 Dec  5 23:48 elementwise_ext.py\n",
      "-rw-r--r-- 1 root root   870 Dec  5 23:48 elu_ext.py\n",
      "-rw-r--r-- 1 root root   865 Dec  5 23:48 erf_ext.py\n",
      "-rw-r--r-- 1 root root  1287 Dec  5 23:48 expand_dims_ext.py\n",
      "-rw-r--r-- 1 root root   860 Dec  5 23:48 exp_ext.py\n",
      "-rw-r--r-- 1 root root  1086 Dec  5 23:48 extract_image_patches_ext.py\n",
      "-rw-r--r-- 1 root root  1647 Dec  5 23:48 fake_const_ext.py\n",
      "-rw-r--r-- 1 root root  1337 Dec  5 23:48 FakeQuantWithMinMaxVars_ext.py\n",
      "-rw-r--r-- 1 root root  5496 Dec  5 23:48 FakeQuantWithMinMaxVars.py\n",
      "-rw-r--r-- 1 root root  3088 Dec  5 23:48 faster_rcnn_support_api_v1.10.json\n",
      "-rw-r--r-- 1 root root  3088 Dec  5 23:48 faster_rcnn_support_api_v1.13.json\n",
      "-rw-r--r-- 1 root root  3088 Dec  5 23:48 faster_rcnn_support_api_v1.14.json\n",
      "-rw-r--r-- 1 root root  3088 Dec  5 23:48 faster_rcnn_support_api_v1.7.json\n",
      "-rw-r--r-- 1 root root  3137 Dec  5 23:48 faster_rcnn_support.json\n",
      "-rw-r--r-- 1 root root  1564 Dec  5 23:48 fifo_queue_v2_ext.py\n",
      "-rw-r--r-- 1 root root  5046 Dec  5 23:48 fifo_replacer.py\n",
      "-rw-r--r-- 1 root root   855 Dec  5 23:48 fill_ext.py\n",
      "-rw-r--r-- 1 root root  3754 Dec  5 23:48 FlattenToReshape.py\n",
      "-rw-r--r-- 1 root root   956 Dec  5 23:48 FloorMod_ext.py\n",
      "-rw-r--r-- 1 root root  1394 Dec  5 23:48 gather_ext.py\n",
      "-rw-r--r-- 1 root root   945 Dec  5 23:48 GatherTree_ext.py\n",
      "-rw-r--r-- 1 root root  5791 Dec  5 23:48 GNMT_DynamicSequenceLengths.py\n",
      "-rw-r--r-- 1 root root     0 Dec  5 23:48 __init__.py\n",
      "-rw-r--r-- 1 root root  2609 Dec  5 23:48 InterpolateTransposes.py\n",
      "-rw-r--r-- 1 root root  1068 Dec  5 23:48 leaky_relu_ext.py\n",
      "-rw-r--r-- 1 root root  1531 Dec  5 23:48 LogSoftmax.py\n",
      "-rw-r--r-- 1 root root  1047 Dec  5 23:48 LoopCond_ext.py\n",
      "-rw-r--r-- 1 root root  3580 Dec  5 23:48 mask_rcnn_support_api_v1.11.json\n",
      "-rw-r--r-- 1 root root  3623 Dec  5 23:48 mask_rcnn_support_api_v1.13.json\n",
      "-rw-r--r-- 1 root root  3620 Dec  5 23:48 mask_rcnn_support_api_v1.14.json\n",
      "-rw-r--r-- 1 root root  3571 Dec  5 23:48 mask_rcnn_support_api_v1.7.json\n",
      "-rw-r--r-- 1 root root  3620 Dec  5 23:48 mask_rcnn_support.json\n",
      "-rw-r--r-- 1 root root   958 Dec  5 23:48 max_ext.py\n",
      "-rw-r--r-- 1 root root   952 Dec  5 23:48 mean_ext.py\n",
      "-rw-r--r-- 1 root root  4113 Dec  5 23:48 mvn.py\n",
      "-rw-r--r-- 1 root root  4121 Dec  5 23:48 mvn_unrolled.py\n",
      "-rw-r--r-- 1 root root  3432 Dec  5 23:48 nearest_neighbor_upsampling.py\n",
      "-rw-r--r-- 1 root root   985 Dec  5 23:48 next_iteration_ext.py\n",
      "-rw-r--r-- 1 root root   878 Dec  5 23:48 Not_ext.py\n",
      "-rw-r--r-- 1 root root 70810 Dec  5 23:48 ObjectDetectionAPI.py\n",
      "-rw-r--r-- 1 root root   904 Dec  5 23:48 one_hot_ext.py\n",
      "-rw-r--r-- 1 root root  1268 Dec  5 23:48 pad_ext.py\n",
      "-rw-r--r-- 1 root root  1263 Dec  5 23:48 placeholder_ext.py\n",
      "-rw-r--r-- 1 root root  1157 Dec  5 23:48 placeholder_with_default_ext.py\n",
      "-rw-r--r-- 1 root root  2939 Dec  5 23:48 pooling_ext.py\n",
      "-rw-r--r-- 1 root root  4505 Dec  5 23:48 prelu.py\n",
      "-rw-r--r-- 1 root root   962 Dec  5 23:48 prod_ext.py\n",
      "-rw-r--r-- 1 root root   864 Dec  5 23:48 rank_ext.py\n",
      "-rw-r--r-- 1 root root   873 Dec  5 23:48 relu6_ext.py\n",
      "-rw-r--r-- 1 root root   869 Dec  5 23:48 relu_ext.py\n",
      "-rw-r--r-- 1 root root   870 Dec  5 23:48 reshape_ext.py\n",
      "-rw-r--r-- 1 root root  1207 Dec  5 23:48 resize_bilinear.py\n",
      "-rw-r--r-- 1 root root  1127 Dec  5 23:48 resize_nearest_neighbor.py\n",
      "-rw-r--r-- 1 root root  6688 Dec  5 23:48 RetinaNetFilteredDetectionsReplacement.py\n",
      "-rw-r--r-- 1 root root  1102 Dec  5 23:48 retinanet.json\n",
      "-rw-r--r-- 1 root root  1097 Dec  5 23:48 reverse_sequence.py\n",
      "-rw-r--r-- 1 root root   882 Dec  5 23:48 reverse_v2.py\n",
      "-rw-r--r-- 1 root root  4047 Dec  5 23:48 rfcn_support_api_v1.10.json\n",
      "-rw-r--r-- 1 root root  4047 Dec  5 23:48 rfcn_support_api_v1.13.json\n",
      "-rw-r--r-- 1 root root  4047 Dec  5 23:48 rfcn_support_api_v1.14.json\n",
      "-rw-r--r-- 1 root root  2970 Dec  5 23:48 rfcn_support.json\n",
      "-rw-r--r-- 1 root root   920 Dec  5 23:48 select_ext.py\n",
      "-rw-r--r-- 1 root root  1049 Dec  5 23:48 shape_ext.py\n",
      "-rw-r--r-- 1 root root   886 Dec  5 23:48 sigmoid.py\n",
      "-rw-r--r-- 1 root root   859 Dec  5 23:48 size_ext.py\n",
      "-rw-r--r-- 1 root root  1692 Dec  5 23:48 SizeReplacer.py\n",
      "-rw-r--r-- 1 root root  1092 Dec  5 23:48 slice_ext.py\n",
      "-rw-r--r-- 1 root root  1035 Dec  5 23:48 softmax_ext.py\n",
      "-rw-r--r-- 1 root root  1119 Dec  5 23:48 space_to_depth_ext.py\n",
      "-rw-r--r-- 1 root root   985 Dec  5 23:48 sparse_fill_empty_rows_ext.py\n",
      "-rw-r--r-- 1 root root  1059 Dec  5 23:48 split_ext.py\n",
      "-rw-r--r-- 1 root root  1023 Dec  5 23:48 squeeze_ext.py\n",
      "-rw-r--r-- 1 root root  1758 Dec  5 23:48 ssd_support_api_v1.14.json\n",
      "-rw-r--r-- 1 root root  1760 Dec  5 23:48 ssd_support.json\n",
      "-rw-r--r-- 1 root root   945 Dec  5 23:48 ssd_toolbox_detection_output.json\n",
      "-rw-r--r-- 1 root root  3913 Dec  5 23:48 SSDToolboxDetectionOutput.py\n",
      "-rw-r--r-- 1 root root   993 Dec  5 23:48 ssd_toolbox_multihead_detection_output.json\n",
      "-rw-r--r-- 1 root root  1761 Dec  5 23:48 ssd_v2_support.json\n",
      "-rw-r--r-- 1 root root   945 Dec  5 23:48 stop_gradient_ext.py\n",
      "-rw-r--r-- 1 root root   953 Dec  5 23:48 sum_ext.py\n",
      "-rw-r--r-- 1 root root  1427 Dec  5 23:48 swish.py\n",
      "-rw-r--r-- 1 root root   874 Dec  5 23:48 tanh.py\n",
      "-rw-r--r-- 1 root root  1140 Dec  5 23:48 TensorArrayExtractors.py\n",
      "-rw-r--r-- 1 root root  1188 Dec  5 23:48 TensorArrayGatherV3.py\n",
      "-rw-r--r-- 1 root root  2519 Dec  5 23:48 tensorflow_custom_operations_config_update.py\n",
      "-rw-r--r-- 1 root root  1975 Dec  5 23:48 tensorflow_patterns.py\n",
      "-rw-r--r-- 1 root root  2061 Dec  5 23:48 tensorflow_use_custom_operations_config.py\n",
      "-rw-r--r-- 1 root root   854 Dec  5 23:48 tile_ext.py\n",
      "-rw-r--r-- 1 root root  1281 Dec  5 23:48 topk_ext.py\n",
      "-rw-r--r-- 1 root root   902 Dec  5 23:48 transpose_ext.py\n",
      "-rw-r--r-- 1 root root  1185 Dec  5 23:48 unique_ext.py\n",
      "-rw-r--r-- 1 root root  1714 Dec  5 23:48 Unpack.py\n",
      "-rw-r--r-- 1 root root  1091 Dec  5 23:48 variable_ext.py\n",
      "-rw-r--r-- 1 root root  1332 Dec  5 23:48 variables_values_freezing.py\n",
      "-rw-r--r-- 1 root root  3768 Dec  5 23:48 YOLO.py\n",
      "-rw-r--r-- 1 root root   171 Dec  5 23:48 yolo_v1.json\n",
      "-rw-r--r-- 1 root root   171 Dec  5 23:48 yolo_v1_tiny.json\n",
      "-rw-r--r-- 1 root root   281 Dec  5 23:48 yolo_v2.json\n",
      "-rw-r--r-- 1 root root   281 Dec  5 23:48 yolo_v2_tiny.json\n",
      "-rw-r--r-- 1 root root   253 Dec  5 23:48 yolo_v2_tiny_voc.json\n",
      "-rw-r--r-- 1 root root   279 Dec  5 23:48 yolo_v2_voc.json\n",
      "-rw-r--r-- 1 root root   408 Dec  5 23:48 yolo_v3.json\n",
      "-rw-r--r-- 1 root root   352 Dec  5 23:48 yolo_v3_tiny.json\n",
      "-rw-r--r-- 1 root root   408 Dec  5 23:48 yolo_v3_voc.json\n"
     ]
    }
   ],
   "source": [
    "!ls -l /opt/intel/openvino/deployment_tools/model_optimizer/extensions/front/tf"
   ]
  },
  {
   "cell_type": "code",
   "execution_count": 6,
   "metadata": {
    "editable": true
   },
   "outputs": [
    {
     "name": "stdout",
     "output_type": "stream",
     "text": [
      "Model Optimizer arguments:\n",
      "Common parameters:\n",
      "\t- Path to the Input Model: \t/home/workspace/faster_rcnn_resnet50_coco_2018_01_28/frozen_inference_graph.pb\n",
      "\t- Path for generated IR: \t/home/workspace/f_rcnn_resnet\n",
      "\t- IR output name: \tfrozen_inference_graph\n",
      "\t- Log level: \tERROR\n",
      "\t- Batch: \tNot specified, inherited from the model\n",
      "\t- Input layers: \tNot specified, inherited from the model\n",
      "\t- Output layers: \tNot specified, inherited from the model\n",
      "\t- Input shapes: \tNot specified, inherited from the model\n",
      "\t- Mean values: \tNot specified\n",
      "\t- Scale values: \tNot specified\n",
      "\t- Scale factor: \tNot specified\n",
      "\t- Precision of IR: \tFP32\n",
      "\t- Enable fusing: \tTrue\n",
      "\t- Enable grouped convolutions fusing: \tTrue\n",
      "\t- Move mean values to preprocess section: \tFalse\n",
      "\t- Reverse input channels: \tTrue\n",
      "TensorFlow specific parameters:\n",
      "\t- Input model in text protobuf format: \tFalse\n",
      "\t- Path to model dump for TensorBoard: \tNone\n",
      "\t- List of shared libraries with TensorFlow custom layers implementation: \tNone\n",
      "\t- Update the configuration file with input/output node names: \tNone\n",
      "\t- Use configuration file used to generate the model with Object Detection API: \t/home/workspace/faster_rcnn_resnet50_coco_2018_01_28/pipeline.config\n",
      "\t- Operations to offload: \tNone\n",
      "\t- Patterns to offload: \tNone\n",
      "\t- Use the config file: \t/opt/intel/openvino/deployment_tools/model_optimizer/extensions/front/tf/faster_rcnn_support.json\n",
      "Model Optimizer version: \t2019.3.0-408-gac8584cb7\n",
      "[ WARNING ] Model Optimizer removes pre-processing block of the model which resizes image keeping aspect ratio. The Inference Engine does not support dynamic image size so the Intermediate Representation file is generated with the input image size of a fixed size.\n",
      "Specify the \"--input_shape\" command line parameter to override the default shape which is equal to (600, 600).\n",
      "The Preprocessor block has been removed. Only nodes performing mean value subtraction and scaling (if applicable) are kept.\n",
      "The graph output nodes \"num_detections\", \"detection_boxes\", \"detection_classes\", \"detection_scores\" have been replaced with a single layer of type \"Detection Output\". Refer to IR catalogue in the documentation for information about this layer.\n",
      "\n",
      "[ SUCCESS ] Generated IR model.\n",
      "[ SUCCESS ] XML file: /home/workspace/f_rcnn_resnet/frozen_inference_graph.xml\n",
      "[ SUCCESS ] BIN file: /home/workspace/f_rcnn_resnet/frozen_inference_graph.bin\n",
      "[ SUCCESS ] Total execution time: 146.79 seconds. \n"
     ]
    }
   ],
   "source": [
    "!/opt/intel/openvino/deployment_tools/model_optimizer/mo_tf.py --input_model faster_rcnn_resnet50_coco_2018_01_28/frozen_inference_graph.pb  --tensorflow_use_custom_operations_config /opt/intel/openvino/deployment_tools/model_optimizer/extensions/front/tf/faster_rcnn_support.json --tensorflow_object_detection_api_pipeline_config faster_rcnn_resnet50_coco_2018_01_28/pipeline.config --reverse_input_channel -o f_rcnn_resnet"
   ]
  },
  {
   "cell_type": "code",
   "execution_count": 9,
   "metadata": {
    "editable": true
   },
   "outputs": [
    {
     "name": "stdout",
     "output_type": "stream",
     "text": [
      "--2020-05-02 15:57:35--  https://github.com/intel-iot-devkit/sample-videos/blob/master/people-detection.mp4\n",
      "Resolving github.com (github.com)... 140.82.113.4\n",
      "Connecting to github.com (github.com)|140.82.113.4|:443... connected.\n",
      "HTTP request sent, awaiting response... 200 OK\n",
      "Length: unspecified [text/html]\n",
      "Saving to: ‘people-detection.mp4.1’\n",
      "\n",
      "people-detection.mp     [ <=>                ]  64.99K  --.-KB/s    in 0.05s   \n",
      "\n",
      "2020-05-02 15:57:36 (1.19 MB/s) - ‘people-detection.mp4.1’ saved [66550]\n",
      "\n"
     ]
    }
   ],
   "source": [
    "!wget https://github.com/intel-iot-devkit/sample-videos/blob/master/people-detection.mp4"
   ]
  },
  {
   "cell_type": "code",
   "execution_count": null,
   "metadata": {
    "editable": true
   },
   "outputs": [],
   "source": []
  }
 ],
 "metadata": {
  "kernelspec": {
   "display_name": "Python 3",
   "language": "python",
   "name": "python3"
  },
  "language_info": {
   "codemirror_mode": {
    "name": "ipython",
    "version": 3
   },
   "file_extension": ".py",
   "mimetype": "text/x-python",
   "name": "python",
   "nbconvert_exporter": "python",
   "pygments_lexer": "ipython3",
   "version": "3.6.3"
  }
 },
 "nbformat": 4,
 "nbformat_minor": 4
}
